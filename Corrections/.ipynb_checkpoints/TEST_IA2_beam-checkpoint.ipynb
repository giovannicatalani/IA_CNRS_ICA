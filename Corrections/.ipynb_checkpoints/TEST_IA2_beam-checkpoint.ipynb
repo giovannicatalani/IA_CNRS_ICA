{
 "cells": [
  {
   "cell_type": "markdown",
   "id": "fb_ZuW34AwdZ",
   "metadata": {
    "id": "fb_ZuW34AwdZ"
   },
   "source": [
    "**Professor J. Morlier**\n",
    "\n",
    "Example from \t\n",
    "Machine learning for (meta-)materials design Dr. Sid Kumar \n",
    "Delft University of Technology"
   ]
  },
  {
   "cell_type": "markdown",
   "id": "Pr5_pMHOAzHM",
   "metadata": {
    "id": "Pr5_pMHOAzHM"
   },
   "source": [
    "### Input: \n",
    "$F\\ [\\text{N}], L\\ [\\text{m}], E\\ [\\text{GPa}], I\\ [\\text{cm}^4]$\n",
    "\n",
    "### Output: \n",
    "$\\delta\\ [\\text{mm}], \\theta\\ [^\\circ]$"
   ]
  },
  {
   "cell_type": "code",
   "execution_count": 1,
   "id": "AkiUDn3l-IUw",
   "metadata": {
    "colab": {
     "base_uri": "https://localhost:8080/"
    },
    "id": "AkiUDn3l-IUw",
    "outputId": "274c9ec6-febf-4046-c57e-03afa56f9837"
   },
   "outputs": [
    {
     "name": "stdout",
     "output_type": "stream",
     "text": [
      "Requirement already satisfied: smt in c:\\users\\raul carreira rufato\\anaconda3\\lib\\site-packages (1.2.0)\n",
      "Requirement already satisfied: scikit-learn in c:\\users\\raul carreira rufato\\anaconda3\\lib\\site-packages (from smt) (1.1.0)\n",
      "Requirement already satisfied: packaging in c:\\users\\raul carreira rufato\\anaconda3\\lib\\site-packages (from smt) (22.0)\n",
      "Requirement already satisfied: pyDOE2 in c:\\users\\raul carreira rufato\\anaconda3\\lib\\site-packages (from smt) (1.3.0)\n",
      "Requirement already satisfied: matplotlib in c:\\users\\raul carreira rufato\\anaconda3\\lib\\site-packages (from smt) (3.7.0)\n",
      "Requirement already satisfied: numpydoc in c:\\users\\raul carreira rufato\\anaconda3\\lib\\site-packages (from smt) (1.5.0)\n",
      "Requirement already satisfied: scipy in c:\\users\\raul carreira rufato\\anaconda3\\lib\\site-packages (from smt) (1.10.0)\n",
      "Requirement already satisfied: contourpy>=1.0.1 in c:\\users\\raul carreira rufato\\anaconda3\\lib\\site-packages (from matplotlib->smt) (1.0.5)\n",
      "Requirement already satisfied: cycler>=0.10 in c:\\users\\raul carreira rufato\\anaconda3\\lib\\site-packages (from matplotlib->smt) (0.11.0)\n",
      "Requirement already satisfied: fonttools>=4.22.0 in c:\\users\\raul carreira rufato\\anaconda3\\lib\\site-packages (from matplotlib->smt) (4.25.0)\n",
      "Requirement already satisfied: kiwisolver>=1.0.1 in c:\\users\\raul carreira rufato\\anaconda3\\lib\\site-packages (from matplotlib->smt) (1.4.4)\n",
      "Requirement already satisfied: numpy>=1.20 in c:\\users\\raul carreira rufato\\anaconda3\\lib\\site-packages (from matplotlib->smt) (1.23.5)\n",
      "Requirement already satisfied: pillow>=6.2.0 in c:\\users\\raul carreira rufato\\anaconda3\\lib\\site-packages (from matplotlib->smt) (9.4.0)\n",
      "Requirement already satisfied: pyparsing>=2.3.1 in c:\\users\\raul carreira rufato\\anaconda3\\lib\\site-packages (from matplotlib->smt) (3.0.9)\n",
      "Requirement already satisfied: python-dateutil>=2.7 in c:\\users\\raul carreira rufato\\anaconda3\\lib\\site-packages (from matplotlib->smt) (2.8.2)\n",
      "Requirement already satisfied: importlib-resources>=3.2.0 in c:\\users\\raul carreira rufato\\anaconda3\\lib\\site-packages (from matplotlib->smt) (5.2.0)\n",
      "Requirement already satisfied: sphinx>=4.2 in c:\\users\\raul carreira rufato\\anaconda3\\lib\\site-packages (from numpydoc->smt) (5.0.2)\n",
      "Requirement already satisfied: Jinja2>=2.10 in c:\\users\\raul carreira rufato\\anaconda3\\lib\\site-packages (from numpydoc->smt) (3.1.2)\n",
      "Requirement already satisfied: joblib>=1.0.0 in c:\\users\\raul carreira rufato\\anaconda3\\lib\\site-packages (from scikit-learn->smt) (1.1.1)\n",
      "Requirement already satisfied: threadpoolctl>=2.0.0 in c:\\users\\raul carreira rufato\\anaconda3\\lib\\site-packages (from scikit-learn->smt) (2.1.0)\n",
      "Requirement already satisfied: zipp>=3.1.0 in c:\\users\\raul carreira rufato\\anaconda3\\lib\\site-packages (from importlib-resources>=3.2.0->matplotlib->smt) (3.11.0)\n",
      "Requirement already satisfied: MarkupSafe>=2.0 in c:\\users\\raul carreira rufato\\anaconda3\\lib\\site-packages (from Jinja2>=2.10->numpydoc->smt) (2.1.1)\n",
      "Requirement already satisfied: six>=1.5 in c:\\users\\raul carreira rufato\\anaconda3\\lib\\site-packages (from python-dateutil>=2.7->matplotlib->smt) (1.16.0)\n",
      "Requirement already satisfied: sphinxcontrib-applehelp in c:\\users\\raul carreira rufato\\anaconda3\\lib\\site-packages (from sphinx>=4.2->numpydoc->smt) (1.0.2)\n",
      "Requirement already satisfied: sphinxcontrib-devhelp in c:\\users\\raul carreira rufato\\anaconda3\\lib\\site-packages (from sphinx>=4.2->numpydoc->smt) (1.0.2)\n",
      "Requirement already satisfied: sphinxcontrib-jsmath in c:\\users\\raul carreira rufato\\anaconda3\\lib\\site-packages (from sphinx>=4.2->numpydoc->smt) (1.0.1)\n",
      "Requirement already satisfied: sphinxcontrib-htmlhelp>=2.0.0 in c:\\users\\raul carreira rufato\\anaconda3\\lib\\site-packages (from sphinx>=4.2->numpydoc->smt) (2.0.0)\n",
      "Requirement already satisfied: sphinxcontrib-serializinghtml>=1.1.5 in c:\\users\\raul carreira rufato\\anaconda3\\lib\\site-packages (from sphinx>=4.2->numpydoc->smt) (1.1.5)\n",
      "Requirement already satisfied: sphinxcontrib-qthelp in c:\\users\\raul carreira rufato\\anaconda3\\lib\\site-packages (from sphinx>=4.2->numpydoc->smt) (1.0.3)\n",
      "Requirement already satisfied: Pygments>=2.0 in c:\\users\\raul carreira rufato\\anaconda3\\lib\\site-packages (from sphinx>=4.2->numpydoc->smt) (2.11.2)\n",
      "Requirement already satisfied: docutils<0.19,>=0.14 in c:\\users\\raul carreira rufato\\anaconda3\\lib\\site-packages (from sphinx>=4.2->numpydoc->smt) (0.18.1)\n",
      "Requirement already satisfied: snowballstemmer>=1.1 in c:\\users\\raul carreira rufato\\anaconda3\\lib\\site-packages (from sphinx>=4.2->numpydoc->smt) (2.2.0)\n",
      "Requirement already satisfied: babel>=1.3 in c:\\users\\raul carreira rufato\\anaconda3\\lib\\site-packages (from sphinx>=4.2->numpydoc->smt) (2.11.0)\n",
      "Requirement already satisfied: alabaster<0.8,>=0.7 in c:\\users\\raul carreira rufato\\anaconda3\\lib\\site-packages (from sphinx>=4.2->numpydoc->smt) (0.7.12)\n",
      "Requirement already satisfied: imagesize in c:\\users\\raul carreira rufato\\anaconda3\\lib\\site-packages (from sphinx>=4.2->numpydoc->smt) (1.4.1)\n",
      "Requirement already satisfied: requests>=2.5.0 in c:\\users\\raul carreira rufato\\anaconda3\\lib\\site-packages (from sphinx>=4.2->numpydoc->smt) (2.28.1)\n",
      "Requirement already satisfied: importlib-metadata>=4.4 in c:\\users\\raul carreira rufato\\anaconda3\\lib\\site-packages (from sphinx>=4.2->numpydoc->smt) (4.11.3)\n",
      "Requirement already satisfied: colorama>=0.3.5 in c:\\users\\raul carreira rufato\\anaconda3\\lib\\site-packages (from sphinx>=4.2->numpydoc->smt) (0.4.6)\n",
      "Requirement already satisfied: pytz>=2015.7 in c:\\users\\raul carreira rufato\\anaconda3\\lib\\site-packages (from babel>=1.3->sphinx>=4.2->numpydoc->smt) (2022.7)\n",
      "Requirement already satisfied: charset-normalizer<3,>=2 in c:\\users\\raul carreira rufato\\anaconda3\\lib\\site-packages (from requests>=2.5.0->sphinx>=4.2->numpydoc->smt) (2.0.4)\n",
      "Requirement already satisfied: idna<4,>=2.5 in c:\\users\\raul carreira rufato\\anaconda3\\lib\\site-packages (from requests>=2.5.0->sphinx>=4.2->numpydoc->smt) (3.4)\n",
      "Requirement already satisfied: urllib3<1.27,>=1.21.1 in c:\\users\\raul carreira rufato\\anaconda3\\lib\\site-packages (from requests>=2.5.0->sphinx>=4.2->numpydoc->smt) (1.26.14)\n",
      "Requirement already satisfied: certifi>=2017.4.17 in c:\\users\\raul carreira rufato\\anaconda3\\lib\\site-packages (from requests>=2.5.0->sphinx>=4.2->numpydoc->smt) (2022.12.7)\n",
      "Note: you may need to restart the kernel to use updated packages.\n"
     ]
    },
    {
     "name": "stderr",
     "output_type": "stream",
     "text": [
      "WARNING: Ignoring invalid distribution -cipy (c:\\users\\raul carreira rufato\\anaconda3\\lib\\site-packages)\n",
      "WARNING: Ignoring invalid distribution -rotobuf (c:\\users\\raul carreira rufato\\anaconda3\\lib\\site-packages)\n",
      "WARNING: Ignoring invalid distribution -cipy (c:\\users\\raul carreira rufato\\anaconda3\\lib\\site-packages)\n",
      "WARNING: Ignoring invalid distribution -rotobuf (c:\\users\\raul carreira rufato\\anaconda3\\lib\\site-packages)\n",
      "DEPRECATION: tsfresh 0.18.0 has a non-standard dependency specifier matrixprofile>=1.1.10<2.0.0. pip 24.1 will enforce this behaviour change. A possible replacement is to upgrade to a newer version of tsfresh or contact the author to suggest that they release a version with a conforming dependency specifiers. Discussion can be found at https://github.com/pypa/pip/issues/12063\n"
     ]
    }
   ],
   "source": [
    "pip install smt"
   ]
  },
  {
   "cell_type": "code",
   "execution_count": 2,
   "id": "ccca0615-5051-48f4-bf45-334aa48daa47",
   "metadata": {
    "id": "ccca0615-5051-48f4-bf45-334aa48daa47"
   },
   "outputs": [],
   "source": [
    "# imports:  \n",
    "import torch\n",
    "import numpy as np\n",
    "import matplotlib.pyplot as plt\n",
    "torch.manual_seed(0);\n",
    "import pandas as pd"
   ]
  },
  {
   "cell_type": "markdown",
   "id": "7cd82c42-36ac-4d3a-91b4-451849ba501d",
   "metadata": {
    "id": "7cd82c42-36ac-4d3a-91b4-451849ba501d"
   },
   "source": [
    "![image.png](attachment:73423615-6ee4-42d8-8576-f3c94ba67f80.png)"
   ]
  },
  {
   "cell_type": "markdown",
   "id": "9e95fad7-2c2b-463d-a9aa-966f9a40e6a8",
   "metadata": {
    "id": "9e95fad7-2c2b-463d-a9aa-966f9a40e6a8"
   },
   "source": [
    "### Input: \n",
    "$F\\ [\\text{N}], L\\ [\\text{m}], E\\ [\\text{GPa}], I\\ [\\text{cm}^4]$\n",
    "\n",
    "### Output: \n",
    "$\\delta\\ [\\text{mm}], \\theta\\ [^\\circ]$"
   ]
  },
  {
   "cell_type": "code",
   "execution_count": null,
   "id": "32e94951",
   "metadata": {},
   "outputs": [],
   "source": [
    "# Load data from .csv file using pandas (Review the code yourself)\n",
    "url = 'https://raw.githubusercontent.com/jomorlier/IA_CNRS_ICA/main/data-3AB-train.csv'\n",
    "df = pd.read_csv(url)\n",
    "df.head()"
   ]
  },
  {
   "cell_type": "code",
   "execution_count": null,
   "id": "14902274-1ee7-49a7-bd2b-0626c4ac83c5",
   "metadata": {
    "id": "14902274-1ee7-49a7-bd2b-0626c4ac83c5"
   },
   "outputs": [],
   "source": [
    "# Define train data (tip: convert df values to float: .astype(np.float32))\n",
    "#df = pd.read_csv('data-3AB-train.csv')\n",
    "x_train = torch.tensor(df[['F','L','E','I']].astype(np.float32).values)\n",
    "x_train=x_train[0::2]\n",
    "\n",
    "y_train = torch.tensor(df[['delta','theta']].astype(np.float32).values)\n",
    "y_train=y_train[0::2]\n"
   ]
  },
  {
   "cell_type": "code",
   "execution_count": null,
   "id": "edd99502-56b4-4803-b250-12c51dfd193d",
   "metadata": {
    "id": "edd99502-56b4-4803-b250-12c51dfd193d",
    "outputId": "e27fc88b-cb2b-484e-c828-912982691bcc"
   },
   "outputs": [
    {
     "data": {
      "text/plain": [
       "tensor([[4.3320e+03, 9.7436e+00, 1.4963e+02, 1.3770e+04],\n",
       "        [3.7687e+03, 7.8370e+00, 1.7682e+02, 7.4727e+03],\n",
       "        [3.7289e+03, 1.0387e+01, 1.0885e+02, 6.6406e+03],\n",
       "        ...,\n",
       "        [3.0583e+03, 6.2898e+00, 1.5196e+02, 6.2782e+03],\n",
       "        [3.3618e+03, 8.6725e+00, 1.3481e+02, 1.3412e+04],\n",
       "        [4.8272e+03, 7.9596e+00, 1.8767e+02, 5.5262e+03]])"
      ]
     },
     "execution_count": 3,
     "metadata": {},
     "output_type": "execute_result"
    }
   ],
   "source": [
    "url = 'https://raw.githubusercontent.com/jomorlier/IA_CNRS_ICA/main/data-3AB-test.csv'\n",
    "df = pd.read_csv(url)\n",
    "df.head()"
   ]
  },
  {
   "cell_type": "code",
   "execution_count": null,
   "id": "377eeb10",
   "metadata": {},
   "outputs": [],
   "source": [
    "#df = pd.read_csv('data-3AB-test.csv')\n",
    "x_test = torch.tensor(df[['F','L','E','I']].astype(np.float32).values)\n",
    "y_test = torch.tensor(df[['delta','theta']].astype(np.float32).values)"
   ]
  },
  {
   "cell_type": "markdown",
   "id": "1b1df225-5f6c-4fe5-b288-98ca1a409ec2",
   "metadata": {
    "id": "1b1df225-5f6c-4fe5-b288-98ca1a409ec2"
   },
   "source": [
    "## Visualize your data!"
   ]
  },
  {
   "cell_type": "code",
   "execution_count": null,
   "id": "5b80f0b2-ebfd-4dad-ad56-77d162b7bb97",
   "metadata": {
    "colab": {
     "base_uri": "https://localhost:8080/"
    },
    "id": "5b80f0b2-ebfd-4dad-ad56-77d162b7bb97",
    "outputId": "f5856397-dd15-4f4c-a51c-666308352696"
   },
   "outputs": [
    {
     "data": {
      "text/plain": [
       "torch.Size([1000, 4])"
      ]
     },
     "execution_count": 49,
     "metadata": {},
     "output_type": "execute_result"
    }
   ],
   "source": [
    "# Check x-data shape\n",
    "# Please comment the data\n",
    "x_train.shape"
   ]
  },
  {
   "cell_type": "code",
   "execution_count": null,
   "id": "600e1ce9-46fd-49e5-8b2a-10c13290de81",
   "metadata": {
    "colab": {
     "base_uri": "https://localhost:8080/",
     "height": 336
    },
    "id": "600e1ce9-46fd-49e5-8b2a-10c13290de81",
    "outputId": "1a2a1c27-dc15-4293-e133-0d51d878a46c"
   },
   "outputs": [
    {
     "data": {
      "image/png": "[encoded data removed]",
      "text/plain": [
       "<Figure size 1440x360 with 4 Axes>"
      ]
     },
     "metadata": {
      "needs_background": "light"
     },
     "output_type": "display_data"
    }
   ],
   "source": [
    "fig, axes = plt.subplots(1, 4, figsize=(20, 5))\n",
    "axes[0].hist(x_train[:,0].detach().numpy(),density=True); axes[0].set_title('F');\n",
    "axes[1].hist(x_train[:,1].detach().numpy(),density=True); axes[1].set_title('L');\n",
    "axes[2].hist(x_train[:,2].detach().numpy(),density=True); axes[2].set_title('E');\n",
    "axes[3].hist(x_train[:,3].detach().numpy(),density=True); axes[3].set_title('I');"
   ]
  },
  {
   "cell_type": "code",
   "execution_count": null,
   "id": "c8c84a60-a6c0-4566-a7ad-7f2d37f27118",
   "metadata": {
    "colab": {
     "base_uri": "https://localhost:8080/"
    },
    "id": "c8c84a60-a6c0-4566-a7ad-7f2d37f27118",
    "outputId": "13aa18da-c1cb-43f2-9f06-94251b2c4ce6"
   },
   "outputs": [
    {
     "data": {
      "text/plain": [
       "torch.Size([1000, 2])"
      ]
     },
     "execution_count": 51,
     "metadata": {},
     "output_type": "execute_result"
    }
   ],
   "source": [
    "# Check y-data shape\n",
    "y_train.shape"
   ]
  },
  {
   "cell_type": "code",
   "execution_count": null,
   "id": "8ec86109-395c-4641-bea7-ce207007edb0",
   "metadata": {
    "colab": {
     "base_uri": "https://localhost:8080/",
     "height": 336
    },
    "id": "8ec86109-395c-4641-bea7-ce207007edb0",
    "outputId": "9053ac37-fa39-44d2-c256-62aafe0c732b"
   },
   "outputs": [
    {
     "data": {
      "image/png": "[encoded data removed]",
      "text/plain": [
       "<Figure size 720x360 with 2 Axes>"
      ]
     },
     "metadata": {
      "needs_background": "light"
     },
     "output_type": "display_data"
    }
   ],
   "source": [
    "fig, axes = plt.subplots(1, 2, figsize=(10, 5))\n",
    "axes[0].hist(y_train[:,0].detach().numpy(),density=True,color='orange'); axes[0].set_title('delta');\n",
    "axes[1].hist(y_train[:,1].detach().numpy(),density=True,color='orange'); axes[1].set_title('theta');"
   ]
  },
  {
   "cell_type": "markdown",
   "id": "f813c101-22e6-492f-b07b-c0986f9ee8ab",
   "metadata": {
    "id": "f813c101-22e6-492f-b07b-c0986f9ee8ab"
   },
   "source": [
    "## Normalize your data\n"
   ]
  },
  {
   "cell_type": "code",
   "execution_count": null,
   "id": "16705b9f-7741-4b1c-a91f-97c4a965c0f9",
   "metadata": {
    "id": "16705b9f-7741-4b1c-a91f-97c4a965c0f9"
   },
   "outputs": [],
   "source": [
    "class Normalization:\n",
    "    def __init__(self,data):\n",
    "        \n",
    "        # empty list of min and max values of each column\n",
    "        self.min_values = []\n",
    "        self.max_values = []\n",
    "        \n",
    "        # find min and max of each column and store in lists\n",
    "        for i in range(data.shape[1]):\n",
    "            self.min_values.append(torch.min(data[:,i]))\n",
    "            self.max_values.append(torch.max(data[:,i]))\n",
    "        \n",
    "    def normalize(self, data):\n",
    "        \n",
    "        # clone the data before modification\n",
    "        normalized_data = data.clone()\n",
    "        \n",
    "        #iterate over all columns\n",
    "        for i in range(0, data.shape[1]):\n",
    "            \n",
    "            # z = a+b*z', where z' in [-1,1] is normalized data\n",
    "            # min_z = a-b, when z'=-1\n",
    "            # max_z = a+b, when z'=1\n",
    "            # normalize each column between values 0 and 1 range\n",
    "            a = (self.max_values[i]+self.min_values[i])/2.\n",
    "            b = (self.max_values[i]-self.min_values[i])/2.\n",
    "            normalized_data[:,i] = (data[:,i]-a)/b\n",
    "        \n",
    "        # return\n",
    "        return normalized_data\n",
    "    \n",
    "    def unnormalize(self, data):\n",
    "        \n",
    "        # clone the data before modification\n",
    "        unnormalized_data = data.clone()\n",
    "        \n",
    "        #iterate over all columns\n",
    "        for i in range(0, data.shape[1]):            \n",
    "            \n",
    "            # z = a+b*z', where z' in [-1,1] is normalized data\n",
    "            # min_z = a-b, when z'=-1\n",
    "            # max_z = a+b, when z'=1\n",
    "            # unnormalize each column to original range\n",
    "            a = (self.max_values[i]+self.min_values[i])/2.\n",
    "            b = (self.max_values[i]-self.min_values[i])/2.\n",
    "            unnormalized_data[:,i] = a + b*data[:,i]          \n",
    "            \n",
    "        # return\n",
    "        return unnormalized_data\n"
   ]
  },
  {
   "cell_type": "code",
   "execution_count": null,
   "id": "70845995-8f13-4f21-a102-d18a0448a9be",
   "metadata": {
    "id": "70845995-8f13-4f21-a102-d18a0448a9be"
   },
   "outputs": [],
   "source": [
    "# Always use TRAINING DATA ONLY for identifying min and max values for normalization\n",
    "x_normalization = Normalization(x_train)\n",
    "y_normalization = Normalization(y_train)\n",
    "\n",
    "# Normalize both training and test data\n",
    "x_train = x_normalization.normalize(x_train)\n",
    "x_test = x_normalization.normalize(x_test)\n",
    "\n",
    "y_train = y_normalization.normalize(y_train)\n",
    "y_test = y_normalization.normalize(y_test)"
   ]
  },
  {
   "cell_type": "code",
   "execution_count": null,
   "id": "ad3b797e-d11a-42ab-bdf7-fd34518dcd84",
   "metadata": {
    "colab": {
     "base_uri": "https://localhost:8080/",
     "height": 255
    },
    "id": "ad3b797e-d11a-42ab-bdf7-fd34518dcd84",
    "outputId": "4be75d95-fb51-42a2-8a6f-05f73c6a0fa9"
   },
   "outputs": [
    {
     "data": {
      "image/png": "[encoded data removed]",
      "text/plain": [
       "<Figure size 2160x360 with 6 Axes>"
      ]
     },
     "metadata": {
      "needs_background": "light"
     },
     "output_type": "display_data"
    }
   ],
   "source": [
    "# Visualize the normalized data\n",
    "fig, axes = plt.subplots(1, 6, figsize=(30, 5))\n",
    "axes[0].hist(x_train[:,0].detach().numpy(),density=True); axes[0].set_title('F');\n",
    "axes[1].hist(x_train[:,1].detach().numpy(),density=True); axes[1].set_title('L');\n",
    "axes[2].hist(x_train[:,2].detach().numpy(),density=True); axes[2].set_title('E');\n",
    "axes[3].hist(x_train[:,3].detach().numpy(),density=True); axes[3].set_title('I');\n",
    "axes[4].hist(y_train[:,0].detach().numpy(),density=True,color='orange'); axes[4].set_title('delta');\n",
    "axes[5].hist(y_train[:,1].detach().numpy(),density=True,color='orange'); axes[5].set_title('theta');"
   ]
  },
  {
   "cell_type": "code",
   "execution_count": null,
   "id": "f9c2e3f0-3e9f-4e28-b57f-5abcddb1d61a",
   "metadata": {
    "id": "f9c2e3f0-3e9f-4e28-b57f-5abcddb1d61a"
   },
   "outputs": [],
   "source": [
    "# Create a NN model w\n",
    "nn = torch.nn.Sequential(\n",
    "    torch.nn.Linear(4,10),\n",
    "    torch.nn.ReLU(),\n",
    "    torch.nn.Linear(10,10),\n",
    "    torch.nn.ReLU(),\n",
    "    torch.nn.Linear(10,10),\n",
    "    torch.nn.ReLU(),\n",
    "    torch.nn.Linear(10,10),\n",
    "    torch.nn.ReLU(),\n",
    "    torch.nn.Linear(10,10),\n",
    "    torch.nn.ReLU(),\n",
    "    torch.nn.Linear(10,10),\n",
    "    torch.nn.ReLU(),\n",
    "    torch.nn.Linear(10,2)\n",
    ")\n",
    "\n",
    "# Define an empty list to store loss history\n",
    "train_loss_history = []\n",
    "test_loss_history = []\n",
    "\n",
    "# Learning rate\n",
    "lr = 0.01\n",
    "\n",
    "# Optimizer: use Adam\n",
    "optimizer = torch.optim.Adam(nn.parameters(), lr=lr)\n",
    "\n",
    "# Loss function: use the MEAN SQUARED ERROR (MSE) as loss\n",
    "loss_function = torch.nn.MSELoss()\n",
    "\n",
    "# Number of epochs\n",
    "num_epochs = 5000\n",
    "\n",
    "# begin iterating over epochs\n",
    "for epoch in range(num_epochs):\n",
    "    \n",
    "    # Make your predictions, USE TRAINING DATA ONLY!!\n",
    "    y_train_pred = nn(x_train)\n",
    "    \n",
    "    # Compute the loss. \n",
    "    train_loss = loss_function(y_train_pred, y_train)\n",
    "    \n",
    "    \n",
    "    # store the loss in a list\n",
    "    train_loss_history.append(train_loss.detach().item())\n",
    "    \n",
    "    \n",
    "    # Call .backward() on loss to compute gradient (d_loss/d_a)\n",
    "    train_loss.backward()\n",
    "    \n",
    "    # Update the model paramaeters\n",
    "    # No need for torch.no_grad() anymore with in-built optimizers\n",
    "    optimizer.step()\n",
    "    \n",
    "    # remove any pre-exisitng gradients stored\n",
    "    optimizer.zero_grad()\n",
    "    \n",
    "    # We also track the loss on test data but don't use that information for training (just for monitoring purpose)\n",
    "    with torch.no_grad(): #torch.no_grad() is back because we don't train on test data and so don't need gradients\n",
    "        \n",
    "        # Make your predictions\n",
    "        y_test_pred = nn(x_test)\n",
    "        \n",
    "        # Compute the loss.\n",
    "        test_loss = loss_function(y_test_pred, y_test)\n",
    "        \n",
    "        \n",
    "        # store the loss in a list\n",
    "        test_loss_history.append(test_loss.detach().item())"
   ]
  },
  {
   "cell_type": "code",
   "execution_count": null,
   "id": "3fb3e4ca-97da-40b7-b965-9aeddeaa366a",
   "metadata": {
    "colab": {
     "base_uri": "https://localhost:8080/",
     "height": 282
    },
    "id": "3fb3e4ca-97da-40b7-b965-9aeddeaa366a",
    "outputId": "a6cc51cb-5067-4e41-9fad-c1f548f37f36"
   },
   "outputs": [
    {
     "data": {
      "text/plain": [
       "<matplotlib.legend.Legend at 0x7f89efaaf8e0>"
      ]
     },
     "execution_count": 57,
     "metadata": {},
     "output_type": "execute_result"
    },
    {
     "data": {
      "image/png": "[encoded data removed]",
      "text/plain": [
       "<Figure size 432x288 with 1 Axes>"
      ]
     },
     "metadata": {
      "needs_background": "light"
     },
     "output_type": "display_data"
    }
   ],
   "source": [
    "# Plot loss history\n",
    "plt.plot(train_loss_history)\n",
    "plt.plot(test_loss_history)\n",
    "plt.yscale('log')\n",
    "plt.legend(['Train','Test'])"
   ]
  },
  {
   "cell_type": "code",
   "execution_count": null,
   "id": "f8537529-284c-4a06-b873-54c9aa304664",
   "metadata": {
    "id": "f8537529-284c-4a06-b873-54c9aa304664"
   },
   "outputs": [],
   "source": [
    "def calculate_R2(true, pred):\n",
    "    # Note: both true and pred should be numpy 1D-array, NOT torch tensors\n",
    "    true_mean = true.mean()\n",
    "    ss_tot = ((true-true_mean)**2).sum()\n",
    "    ss_res = ((true-pred)**2).sum()\n",
    "    return 1. - (ss_res/ss_tot)\n",
    "\n",
    "\n",
    "def plotR2(true, pred):\n",
    "    dim = true.shape[1]\n",
    "    fig = plt.figure(figsize=plt.figaspect(1./dim))\n",
    "    def helper(ax,index):\n",
    "        R2 = calculate_R2(true[:,index].squeeze().numpy(), pred[:,index].squeeze().detach().numpy())\n",
    "        R2 = np.round(R2,2)\n",
    "        ax.scatter(true[:,index], pred[:,index].detach())\n",
    "        ax.plot([true[:,index].min(),true[:,index].max()],[true[:,index].min(),true[:,index].max()],c='red')\n",
    "        ax.set_title('Label dim: {},  R2={}'.format(index,R2))\n",
    "        ax.set_xlabel('True'); ax.set_ylabel('Predicted')\n",
    "    for i in range(dim):\n",
    "        ax = fig.add_subplot(1, dim, i+1); helper(ax,i)\n",
    "    fig.tight_layout()"
   ]
  },
  {
   "cell_type": "code",
   "execution_count": null,
   "id": "4ed7fb47-07a3-4614-bcff-a9847cb12589",
   "metadata": {
    "id": "4ed7fb47-07a3-4614-bcff-a9847cb12589"
   },
   "outputs": [],
   "source": [
    "with torch.no_grad():\n",
    "    # Make prediction on test set\n",
    "    y_test_pred = nn(x_test)"
   ]
  },
  {
   "cell_type": "code",
   "execution_count": null,
   "id": "e74199ef-a986-4e5d-84a8-ea2233b0ab77",
   "metadata": {
    "id": "e74199ef-a986-4e5d-84a8-ea2233b0ab77"
   },
   "outputs": [],
   "source": [
    "# Unnormalize all y-data\n",
    "# To-do\n",
    "y_train = y_normalization.unnormalize(y_train)\n",
    "y_test = y_normalization.unnormalize(y_test)\n",
    "y_test_pred = y_normalization.unnormalize(y_test_pred)"
   ]
  },
  {
   "cell_type": "code",
   "execution_count": null,
   "id": "25c73035-6647-4e17-8957-f2c4c574045c",
   "metadata": {
    "colab": {
     "base_uri": "https://localhost:8080/",
     "height": 297
    },
    "id": "25c73035-6647-4e17-8957-f2c4c574045c",
    "outputId": "8aa5c100-ee92-4a11-d382-e584303bc275"
   },
   "outputs": [
    {
     "data": {
      "image/png": "[encoded data removed]",
      "text/plain": [
       "<Figure size 576x288 with 2 Axes>"
      ]
     },
     "metadata": {
      "needs_background": "light"
     },
     "output_type": "display_data"
    }
   ],
   "source": [
    "# Visualize accuracy\n",
    "plotR2(y_test, y_test_pred)"
   ]
  },
  {
   "cell_type": "markdown",
   "id": "QFye-BdVBVLU",
   "metadata": {
    "id": "QFye-BdVBVLU"
   },
   "source": [
    "**COMPARE WITH GPR**\n",
    "and SMT ;)"
   ]
  },
  {
   "cell_type": "code",
   "execution_count": null,
   "id": "bAtoaVDk_7lM",
   "metadata": {
    "colab": {
     "base_uri": "https://localhost:8080/",
     "height": 1000
    },
    "id": "bAtoaVDk_7lM",
    "outputId": "902fa2de-3bcf-430c-ae9f-ae65061d90ab"
   },
   "outputs": [
    {
     "name": "stdout",
     "output_type": "stream",
     "text": [
      "___________________________________________________________________________\n",
      "   \n",
      "                                  Kriging\n",
      "___________________________________________________________________________\n",
      "   \n",
      " Problem size\n",
      "   \n",
      "      # training points.        : 100\n",
      "   \n",
      "___________________________________________________________________________\n",
      "   \n",
      " Training\n",
      "   \n",
      "   Training ...\n",
      "exception :  57-th leading minor of the array is not positive definite\n",
      "exception :  68-th leading minor of the array is not positive definite\n",
      "exception :  71-th leading minor of the array is not positive definite\n",
      "exception :  71-th leading minor of the array is not positive definite\n",
      "exception :  64-th leading minor of the array is not positive definite\n",
      "exception :  80-th leading minor of the array is not positive definite\n",
      "exception :  86-th leading minor of the array is not positive definite\n",
      "exception :  90-th leading minor of the array is not positive definite\n",
      "exception :  100-th leading minor of the array is not positive definite\n",
      "exception :  96-th leading minor of the array is not positive definite\n",
      "exception :  88-th leading minor of the array is not positive definite\n",
      "exception :  22-th leading minor of the array is not positive definite\n",
      "exception :  23-th leading minor of the array is not positive definite\n",
      "exception :  22-th leading minor of the array is not positive definite\n",
      "exception :  23-th leading minor of the array is not positive definite\n",
      "exception :  24-th leading minor of the array is not positive definite\n",
      "exception :  15-th leading minor of the array is not positive definite\n",
      "exception :  16-th leading minor of the array is not positive definite\n",
      "exception :  15-th leading minor of the array is not positive definite\n",
      "exception :  16-th leading minor of the array is not positive definite\n",
      "exception :  15-th leading minor of the array is not positive definite\n",
      "exception :  91-th leading minor of the array is not positive definite\n",
      "exception :  87-th leading minor of the array is not positive definite\n",
      "exception :  39-th leading minor of the array is not positive definite\n",
      "exception :  41-th leading minor of the array is not positive definite\n",
      "exception :  41-th leading minor of the array is not positive definite\n",
      "exception :  41-th leading minor of the array is not positive definite\n",
      "exception :  41-th leading minor of the array is not positive definite\n",
      "exception :  85-th leading minor of the array is not positive definite\n",
      "   Training - done. Time (sec):  0.1688342\n",
      "___________________________________________________________________________\n",
      "   \n",
      " Evaluation\n",
      "   \n",
      "      # eval points. : 300\n",
      "   \n",
      "   Predicting ...\n",
      "   Predicting - done. Time (sec):  0.0028973\n",
      "   \n",
      "   Prediction time/pt. (sec) :  0.0000097\n",
      "   \n",
      "Mean squared error: 1.362193\n",
      "Variance score (R2): 0.999336\n",
      "___________________________________________________________________________\n",
      "   \n",
      "                                  Kriging\n",
      "___________________________________________________________________________\n",
      "   \n",
      " Problem size\n",
      "   \n",
      "      # training points.        : 100\n",
      "   \n",
      "___________________________________________________________________________\n",
      "   \n",
      " Training\n",
      "   \n",
      "   Training ...\n",
      "exception :  57-th leading minor of the array is not positive definite\n",
      "exception :  68-th leading minor of the array is not positive definite\n",
      "exception :  71-th leading minor of the array is not positive definite\n",
      "exception :  71-th leading minor of the array is not positive definite\n",
      "exception :  64-th leading minor of the array is not positive definite\n",
      "exception :  79-th leading minor of the array is not positive definite\n",
      "exception :  88-th leading minor of the array is not positive definite\n",
      "exception :  99-th leading minor of the array is not positive definite\n",
      "exception :  91-th leading minor of the array is not positive definite\n",
      "exception :  86-th leading minor of the array is not positive definite\n",
      "exception :  87-th leading minor of the array is not positive definite\n",
      "exception :  22-th leading minor of the array is not positive definite\n",
      "exception :  23-th leading minor of the array is not positive definite\n",
      "exception :  22-th leading minor of the array is not positive definite\n",
      "exception :  23-th leading minor of the array is not positive definite\n",
      "exception :  24-th leading minor of the array is not positive definite\n",
      "exception :  15-th leading minor of the array is not positive definite\n",
      "exception :  16-th leading minor of the array is not positive definite\n",
      "exception :  15-th leading minor of the array is not positive definite\n",
      "exception :  16-th leading minor of the array is not positive definite\n",
      "exception :  15-th leading minor of the array is not positive definite\n",
      "exception :  92-th leading minor of the array is not positive definite\n",
      "exception :  92-th leading minor of the array is not positive definite\n",
      "exception :  39-th leading minor of the array is not positive definite\n",
      "exception :  41-th leading minor of the array is not positive definite\n",
      "exception :  41-th leading minor of the array is not positive definite\n",
      "exception :  41-th leading minor of the array is not positive definite\n",
      "exception :  41-th leading minor of the array is not positive definite\n",
      "exception :  78-th leading minor of the array is not positive definite\n",
      "   Training - done. Time (sec):  0.2112927\n",
      "___________________________________________________________________________\n",
      "   \n",
      " Evaluation\n",
      "   \n",
      "      # eval points. : 300\n",
      "   \n",
      "   Predicting ...\n",
      "   Predicting - done. Time (sec):  0.0072641\n",
      "   \n",
      "   Prediction time/pt. (sec) :  0.0000242\n",
      "   \n",
      "Mean squared error: 0.000061\n",
      "Variance score (R2): 0.999527\n"
     ]
    },
    {
     "data": {
      "image/png": "[encoded data removed]",
      "text/plain": [
       "<Figure size 432x288 with 1 Axes>"
      ]
     },
     "metadata": {
      "needs_background": "light"
     },
     "output_type": "display_data"
    },
    {
     "data": {
      "image/png": "[encoded data removed]",
      "text/plain": [
       "<Figure size 432x288 with 1 Axes>"
      ]
     },
     "metadata": {
      "needs_background": "light"
     },
     "output_type": "display_data"
    }
   ],
   "source": [
    "from smt.surrogate_models import KRG\n",
    "\n",
    "# Load data from .csv file using pandas (Review the code yourself)\n",
    "url = 'https://raw.githubusercontent.com/jomorlier/IA_CNRS_ICA/main/data-3AB-train.csv'\n",
    "df = pd.read_csv(url)\n",
    "# Dataset is now stored in a Pandas Dataframe\n",
    "#df = pd.read_csv('data-3AB-train.csv')\n",
    "x_train = df[['F','L','E','I']].astype(np.float32).values\n",
    "x_train=x_train[0::20]\n",
    "#print(x_train)\n",
    "y_train1 = df[['delta']].astype(np.float32).values\n",
    "y_train1=y_train1[0::20]\n",
    "y_train2 = df[['theta']].astype(np.float32).values\n",
    "y_train2=y_train2[0::20]\n",
    "\n",
    "url = 'https://raw.githubusercontent.com/jomorlier/IA_CNRS_ICA/main/data-3AB-test.csv'\n",
    "df = pd.read_csv(url)\n",
    "#df = pd.read_csv('data-3AB-test.csv')\n",
    "x_test = df[['F','L','E','I']].astype(np.float32).values\n",
    "y_test1 = df[['delta']].astype(np.float32).values\n",
    "y_test2 = df[['theta']].astype(np.float32).values\n",
    "\n",
    "sm = KRG(theta0=[1e-2], poly='constant', corr='squar_exp')\n",
    "#sm = KRG(theta0=[1e-2], poly='constant', corr='matern52')\n",
    "sm.set_training_values(x_train, y_train1)\n",
    "sm.train()\n",
    "\n",
    "\n",
    "# Prediction of the validation points\n",
    "y1 = sm.predict_values(x_test)\n",
    "#print('LS,  err: '+str(compute_rms_error(y,x_test,y_test)))\n",
    "\n",
    "# Plot prediction/true values\n",
    "\n",
    "fig = plt.figure()\n",
    "plt.plot(y_test1, y_test1, '-', label='$y_{true}$')\n",
    "plt.plot(y_test1, y1, 'r.', label='$\\hat{y}$')\n",
    "       \n",
    "plt.xlabel('$y_{true}$')\n",
    "plt.ylabel('$\\hat{y}$')\n",
    "        \n",
    "plt.legend(loc='upper left')\n",
    "#plt.title('LS model: validation of the prediction model')\n",
    "\n",
    "\n",
    "from sklearn.metrics import mean_squared_error, r2_score\n",
    "\n",
    "\n",
    "# The mean squared error\n",
    "print(\"Mean squared error: %f\"\n",
    "      % mean_squared_error(y_test1, y1))\n",
    "# Explained variance score: 1 is perfect prediction\n",
    "print('Variance score (R2): %f' % r2_score(y_test1, y1))\n",
    "\n",
    "\n",
    "#surrogate2\n",
    "sm = KRG(theta0=[1e-2], poly='constant', corr='squar_exp')\n",
    "#sm = KRG(theta0=[1e-2], poly='constant', corr='matern52')\n",
    "sm.set_training_values(x_train, y_train2)\n",
    "sm.train()\n",
    "\n",
    "\n",
    "# Prediction of the validation points\n",
    "y2 = sm.predict_values(x_test)\n",
    "#print('LS,  err: '+str(compute_rms_error(y,x_test,y_test)))\n",
    "\n",
    "# Unnormalize all y-data\n",
    "# To-do\n",
    "\n",
    "\n",
    "# Plot prediction/true values\n",
    "\n",
    "fig = plt.figure()\n",
    "plt.plot(y_test2, y_test2, '-', label='$y_{true}$')\n",
    "plt.plot(y_test2, y2, 'r.', label='$\\hat{y}$')\n",
    "       \n",
    "plt.xlabel('$y_{true}$')\n",
    "plt.ylabel('$\\hat{y}$')\n",
    "        \n",
    "plt.legend(loc='upper left')\n",
    "#plt.title('LS model: validation of the prediction model')\n",
    "\n",
    "\n",
    "\n",
    "# The mean squared error\n",
    "print(\"Mean squared error: %f\"\n",
    "      % mean_squared_error(y_test2, y2))\n",
    "# Explained variance score: 1 is perfect prediction\n",
    "print('Variance score (R2): %f' % r2_score(y_test2, y2))"
   ]
  },
  {
   "cell_type": "code",
   "execution_count": null,
   "id": "fk0UcZ8L-F6B",
   "metadata": {
    "id": "fk0UcZ8L-F6B"
   },
   "outputs": [],
   "source": []
  },
  {
   "cell_type": "markdown",
   "id": "e2f52229-2471-4112-aa77-6a3a92b573df",
   "metadata": {
    "id": "e2f52229-2471-4112-aa77-6a3a92b573df",
    "tags": []
   },
   "source": [
    "-----\n",
    "\n",
    "# Constrained surrogate optimization"
   ]
  },
  {
   "cell_type": "markdown",
   "id": "909e0a70-50c1-42de-a611-fe6273f066a8",
   "metadata": {
    "id": "909e0a70-50c1-42de-a611-fe6273f066a8"
   },
   "source": [
    "Target: $\\delta=150 \\text{mm}$ ($=-0.0933$ after normalization)\n",
    "\n",
    "Given: $F = 2500 N$ ($=-0.6681$ after normalization)\n",
    "\n",
    "Find appropriate parameters: $L, E, I$ to achieve this value of target $\\delta$:\n",
    "\n",
    "### $$\\min_{L,E,I} (\\delta - \\delta_\\text{target})^2$$\n",
    "\n",
    "But normalized $L$ (also $E$, $I$) are constrained to certain bounds ($L\\in[-1,+1]$ after normalization).\n",
    "\n",
    "Therefore, set $L=\\text{tanh}(L_p)$, with $L_p\\in[-\\infty,+\\infty]$.\n",
    "\n",
    "Then, the problem becomes an unconstrianed optimization (which is easier to solve)\n",
    "\n",
    "### $$\\min_{L_p,E_p,I_p} (\\delta - \\delta_\\text{target})^2$$\n",
    "\n",
    "\n",
    "\n",
    "-----\n",
    "\n",
    "![image.png](attachment:f7258cd2-6625-4801-ba82-855a208252ec.png)\n"
   ]
  },
  {
   "cell_type": "code",
   "execution_count": null,
   "id": "0e727a31-8540-4dcc-9f38-75a48eb249e0",
   "metadata": {
    "id": "0e727a31-8540-4dcc-9f38-75a48eb249e0",
    "outputId": "8dd981dd-bf62-4809-e697-7f35881886e2"
   },
   "outputs": [
    {
     "name": "stdout",
     "output_type": "stream",
     "text": [
      "L: 10.440167427062988\n",
      "E: 109.62689971923828\n",
      "I: 5802.560546875\n"
     ]
    },
    {
     "data": {
      "image/png": "[encoded data removed]",
      "text/plain": [
       "<Figure size 432x288 with 1 Axes>"
      ]
     },
     "metadata": {
      "needs_background": "light"
     },
     "output_type": "display_data"
    }
   ],
   "source": [
    "given_F = -0.6681\n",
    "target_delta = -0.0933\n",
    "\n",
    "# Define L, E, I as scalar tensors with requires_grad=True and some initial guess\n",
    "L_p = torch.tensor([0.], requires_grad=True) \n",
    "E_p = torch.tensor([0.], requires_grad=True)\n",
    "I_p = torch.tensor([0.], requires_grad=True) \n",
    "\n",
    "# Define an empty list to store loss history\n",
    "loss_history = []\n",
    "\n",
    "# lr\n",
    "lr = 0.01\n",
    "\n",
    "# num_epochs\n",
    "num_epochs = 10000\n",
    "\n",
    "# optimizer\n",
    "optimizer = torch.optim.Adam([L_p,E_p,I_p], lr=lr)\n",
    "\n",
    "# define the tanh function\n",
    "tanh = torch.nn.Tanh()\n",
    "    \n",
    "# Lets write an optimization loop to improve the predictions and find the parameters\n",
    "for i in range(num_epochs):\n",
    "    \n",
    "    # Prepare input matrix\n",
    "    x = torch.zeros(1,4)\n",
    "    x[0,0] = given_F\n",
    "    x[0,1] = tanh(L_p)\n",
    "    x[0,2] = tanh(E_p)\n",
    "    x[0,3] = tanh(I_p)\n",
    "    \n",
    "    # predict y_pred\n",
    "    y_pred = nn(x)\n",
    "    \n",
    "    # Extract delta\n",
    "    delta = y_pred[0,0]\n",
    "    \n",
    "    # Compute loss as squared value of difference from target delta\n",
    "    loss = (delta - target_delta)**2\n",
    "\n",
    "    # store the loss in a list\n",
    "    loss_history.append(loss.detach().item())\n",
    "\n",
    "    # compute gradient of loss relative to x using backward()\n",
    "    loss.backward()\n",
    "    \n",
    "    # optimizer step\n",
    "    optimizer.step()\n",
    "    \n",
    "    # Remove any existing gradients for next iteration\n",
    "    optimizer.zero_grad()\n",
    "\n",
    "# Plot loss history\n",
    "plt.plot(loss_history)\n",
    "plt.yscale('log')\n",
    "\n",
    "\n",
    "# Print L, E, I\n",
    "x = torch.zeros(1,4)\n",
    "x[0,0] = given_F\n",
    "x[0,1] = tanh(L_p)\n",
    "x[0,2] = tanh(E_p)\n",
    "x[0,3] = tanh(I_p)\n",
    "x = x_normalization.unnormalize(x)\n",
    "print('L:',x[0,1].detach().item())\n",
    "print('E:',x[0,2].detach().item())\n",
    "print('I:',x[0,3].detach().item())"
   ]
  },
  {
   "cell_type": "markdown",
   "id": "641373fd-fa8f-42c5-a368-e8ab17b55db1",
   "metadata": {
    "id": "641373fd-fa8f-42c5-a368-e8ab17b55db1"
   },
   "source": [
    "# Moral of the story: \n",
    "\n",
    "- ### Use any PRE-TRAINED neural network as just another torch-based function that is differentiable. \n",
    "\n",
    "- ### The computational graph is automatically propagated through the neural entwork by PyTorch. \n",
    "\n",
    "- ### The differentiability can be used for any kind of optimization or even, training another neural network (as you will see in the project). \n",
    "\n",
    "- ### Using GP with lots of close related data create problems to inverse the matrix of covariance. Undersampling is a simple solution in this case.\n",
    "\n"
   ]
  },
  {
   "cell_type": "code",
   "execution_count": null,
   "id": "c4a01c86-53f5-455d-95d0-f93163bed2ce",
   "metadata": {
    "id": "c4a01c86-53f5-455d-95d0-f93163bed2ce"
   },
   "outputs": [],
   "source": []
  },
  {
   "cell_type": "code",
   "execution_count": null,
   "id": "a9cb2004-633a-4993-bb8b-f1818b68493f",
   "metadata": {
    "id": "a9cb2004-633a-4993-bb8b-f1818b68493f"
   },
   "outputs": [],
   "source": []
  },
  {
   "cell_type": "code",
   "execution_count": null,
   "id": "48f97549-a061-4e39-8399-e8430d22f2d4",
   "metadata": {
    "id": "48f97549-a061-4e39-8399-e8430d22f2d4"
   },
   "outputs": [],
   "source": []
  }
 ],
 "metadata": {
  "colab": {
   "provenance": []
  },
  "kernelspec": {
   "display_name": "Python 3 (ipykernel)",
   "language": "python",
   "name": "python3"
  },
  "language_info": {
   "codemirror_mode": {
    "name": "ipython",
    "version": 3
   },
   "file_extension": ".py",
   "mimetype": "text/x-python",
   "name": "python",
   "nbconvert_exporter": "python",
   "pygments_lexer": "ipython3",
   "version": "3.8.16"
  }
 },
 "nbformat": 4,
 "nbformat_minor": 5
}
